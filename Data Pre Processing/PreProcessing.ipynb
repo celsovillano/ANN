{
 "cells": [
  {
   "cell_type": "markdown",
   "metadata": {},
   "source": [
    "# Data Pre Processing for Sharing Session\n",
    "22 July 2020"
   ]
  },
  {
   "cell_type": "code",
   "execution_count": 1,
   "metadata": {},
   "outputs": [],
   "source": [
    "import pandas as pd\n",
    "import numpy as np\n",
    "import matplotlib.pyplot as plt\n",
    "import seaborn as sns\n",
    "\n",
    "# Matplotlib\n",
    "plt.rcParams['figure.figsize'] = 9,6\n",
    "plt.rcParams.update({'font.size':16})\n",
    "\n",
    "# Seaborn\n",
    "sns.set_style('whitegrid')\n",
    "sns.set_palette('PuBuGn_d')\n",
    "\n",
    "# sklearn\n",
    "from sklearn.preprocessing import OneHotEncoder\n",
    "from sklearn.model_selection import train_test_split"
   ]
  },
  {
   "cell_type": "code",
   "execution_count": 2,
   "metadata": {},
   "outputs": [
    {
     "name": "stderr",
     "output_type": "stream",
     "text": [
      "C:\\Users\\Villano\\Anaconda3\\lib\\site-packages\\IPython\\core\\interactiveshell.py:3063: DtypeWarning: Columns (19) have mixed types.Specify dtype option on import or set low_memory=False.\n",
      "  interactivity=interactivity, compiler=compiler, result=result)\n"
     ]
    }
   ],
   "source": [
    "df_raw = pd.read_csv('https://static.turi.com/datasets/lending_club/loanStats.csv')"
   ]
  },
  {
   "cell_type": "markdown",
   "metadata": {},
   "source": [
    "### Filter Loan Status\n",
    "- Fully Paid =  \"good\" loan\n",
    "- Charged Off + Default = \"bad\" loan"
   ]
  },
  {
   "cell_type": "code",
   "execution_count": 3,
   "metadata": {},
   "outputs": [],
   "source": [
    "filter_list = ['Fully Paid', 'Default', 'Charged Off']\n",
    "\n",
    "df = df_raw.loc[df_raw.loan_status.isin(filter_list)]"
   ]
  },
  {
   "cell_type": "markdown",
   "metadata": {},
   "source": [
    "Left with 119,939 Rows"
   ]
  },
  {
   "cell_type": "markdown",
   "metadata": {},
   "source": [
    "#### Select Features"
   ]
  },
  {
   "cell_type": "code",
   "execution_count": 4,
   "metadata": {},
   "outputs": [],
   "source": [
    "features = [\"annual_inc\",\n",
    "            \"delinq_2yrs\",\n",
    "            \"dti\",\n",
    "            \"emp_length_num\",\n",
    "            \"funded_amnt\",\n",
    "            \"grade_num\",\n",
    "            \"home_ownership\",\n",
    "            \"installment\",\n",
    "            \"int_rate\",\n",
    "            \"last_pymnt_amnt\",\n",
    "            \"loan_amnt\",\n",
    "            \"loan_status\",\n",
    "            \"mths_since_last_delinq\",\n",
    "            \"mths_since_last_major_derog\",\n",
    "            \"open_acc\",\n",
    "            \"revol_util\",\n",
    "            \"term\",\n",
    "            \"total_acc\",\n",
    "            \"total_pymnt\",\n",
    "            \"total_rec_late_fee\",]\n",
    "\n",
    "df = df.loc[:, df.columns.isin(features)]"
   ]
  },
  {
   "cell_type": "markdown",
   "metadata": {},
   "source": [
    "### Map Loan Status"
   ]
  },
  {
   "cell_type": "code",
   "execution_count": 5,
   "metadata": {},
   "outputs": [],
   "source": [
    "map_loan_status = dict(zip(filter_list,[1,0,0]))"
   ]
  },
  {
   "cell_type": "code",
   "execution_count": 6,
   "metadata": {},
   "outputs": [],
   "source": [
    "df['good_loan'] = df.loan_status.apply(lambda x: map_loan_status[x])"
   ]
  },
  {
   "cell_type": "code",
   "execution_count": 7,
   "metadata": {},
   "outputs": [
    {
     "data": {
      "image/png": "[encoded data removed]",
      "text/plain": [
       "<Figure size 648x432 with 1 Axes>"
      ]
     },
     "metadata": {},
     "output_type": "display_data"
    }
   ],
   "source": [
    "fig, ax = plt.subplots()\n",
    "df[['good_loan','dti']].groupby('good_loan').count().plot(kind='bar', ax = ax, rot = 0)\n",
    "ax.set_xlabel(' ')\n",
    "ax.set_ylabel('Count')\n",
    "sns.despine()\n",
    "plt.show()"
   ]
  },
  {
   "cell_type": "markdown",
   "metadata": {},
   "source": [
    "Remove <i>loan_status</i>"
   ]
  },
  {
   "cell_type": "code",
   "execution_count": 8,
   "metadata": {},
   "outputs": [],
   "source": [
    "df = df.loc[:, df.columns!='loan_status']"
   ]
  },
  {
   "cell_type": "markdown",
   "metadata": {},
   "source": [
    "One Hot Encoding"
   ]
  },
  {
   "cell_type": "code",
   "execution_count": 9,
   "metadata": {},
   "outputs": [],
   "source": [
    "df = pd.concat([df.loc[:,df.columns != 'home_ownership'].reset_index(drop=True),\n",
    "               pd.get_dummies(df[['home_ownership']]).reset_index(drop=True)], axis = 1)"
   ]
  },
  {
   "cell_type": "markdown",
   "metadata": {},
   "source": [
    "Encode term as numeric"
   ]
  },
  {
   "cell_type": "code",
   "execution_count": 10,
   "metadata": {},
   "outputs": [],
   "source": [
    "df['term'] = df.term.str[:3].apply(lambda x: x.strip()).astype('int64')"
   ]
  },
  {
   "cell_type": "markdown",
   "metadata": {},
   "source": [
    "### Split to Train and Test"
   ]
  },
  {
   "cell_type": "markdown",
   "metadata": {},
   "source": [
    "- Sample in such a way to minimize the imbalanced nature of the data.\n",
    "- Use only 50,000 for train and 1,000 for test"
   ]
  },
  {
   "cell_type": "code",
   "execution_count": 11,
   "metadata": {},
   "outputs": [],
   "source": [
    "np.random.seed(69)\n",
    "df_samp_good = df.loc[df.good_loan == 1, :].sample(n=30600)\n",
    "df_samp_bad  = df.loc[df.good_loan == 0, :].sample(n=20400)"
   ]
  },
  {
   "cell_type": "code",
   "execution_count": 12,
   "metadata": {},
   "outputs": [],
   "source": [
    "X_train = pd.concat([df_samp_good.iloc[:30000,:],\n",
    "                    df_samp_bad.iloc[:20000,:]\n",
    "                            ])\n",
    "\n",
    "X_test = pd.concat([df_samp_good.iloc[30000:,:],\n",
    "                   df_samp_bad.iloc[20000:,:]\n",
    "                  ])"
   ]
  },
  {
   "cell_type": "code",
   "execution_count": 13,
   "metadata": {},
   "outputs": [],
   "source": [
    "y_train, y_test = X_train.loc[:, X_train.columns == 'good_loan'], X_test.loc[:, X_test.columns == 'good_loan']\n",
    "X_train, X_test = X_train.loc[:, X_train.columns != 'good_loan'], X_test.loc[:, X_test.columns != 'good_loan']"
   ]
  },
  {
   "cell_type": "markdown",
   "metadata": {},
   "source": [
    "#### Export"
   ]
  },
  {
   "cell_type": "code",
   "execution_count": 15,
   "metadata": {},
   "outputs": [],
   "source": [
    "X_train.to_csv('../Data_Hands-on/X_train.csv', index = False)\n",
    "X_test.to_csv('../Data_Hands-on/X_test.csv'  , index = False)\n",
    "y_train.to_csv('../Data_Hands-on/y_train.csv', index = False)\n",
    "y_test.to_csv('../Data_Hands-on/y_test.csv'  , index = False)"
   ]
  }
 ],
 "metadata": {
  "kernelspec": {
   "display_name": "Python 3",
   "language": "python",
   "name": "python3"
  },
  "language_info": {
   "codemirror_mode": {
    "name": "ipython",
    "version": 3
   },
   "file_extension": ".py",
   "mimetype": "text/x-python",
   "name": "python",
   "nbconvert_exporter": "python",
   "pygments_lexer": "ipython3",
   "version": "3.7.7"
  }
 },
 "nbformat": 4,
 "nbformat_minor": 4
}
